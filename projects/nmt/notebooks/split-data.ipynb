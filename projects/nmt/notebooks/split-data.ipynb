{
 "cells": [
  {
   "cell_type": "code",
   "execution_count": 1,
   "id": "98ae8dba-f661-4e4e-bc1f-77920645db3f",
   "metadata": {},
   "outputs": [],
   "source": [
    "import pandas as pd"
   ]
  },
  {
   "cell_type": "code",
   "execution_count": 2,
   "id": "48240495-d16f-499c-9b76-6f9c240bd004",
   "metadata": {},
   "outputs": [
    {
     "data": {
      "text/html": [
       "<div>\n",
       "<style scoped>\n",
       "    .dataframe tbody tr th:only-of-type {\n",
       "        vertical-align: middle;\n",
       "    }\n",
       "\n",
       "    .dataframe tbody tr th {\n",
       "        vertical-align: top;\n",
       "    }\n",
       "\n",
       "    .dataframe thead th {\n",
       "        text-align: right;\n",
       "    }\n",
       "</style>\n",
       "<table border=\"1\" class=\"dataframe\">\n",
       "  <thead>\n",
       "    <tr style=\"text-align: right;\">\n",
       "      <th></th>\n",
       "      <th>english</th>\n",
       "      <th>arabic</th>\n",
       "      <th>license</th>\n",
       "    </tr>\n",
       "  </thead>\n",
       "  <tbody>\n",
       "    <tr>\n",
       "      <th>0</th>\n",
       "      <td>Hi.</td>\n",
       "      <td>مرحبًا.</td>\n",
       "      <td>CC-BY 2.0 (France) Attribution: tatoeba.org #5...</td>\n",
       "    </tr>\n",
       "    <tr>\n",
       "      <th>1</th>\n",
       "      <td>Run!</td>\n",
       "      <td>اركض!</td>\n",
       "      <td>CC-BY 2.0 (France) Attribution: tatoeba.org #9...</td>\n",
       "    </tr>\n",
       "    <tr>\n",
       "      <th>2</th>\n",
       "      <td>Duck!</td>\n",
       "      <td>اخفض رأسك!</td>\n",
       "      <td>CC-BY 2.0 (France) Attribution: tatoeba.org #2...</td>\n",
       "    </tr>\n",
       "    <tr>\n",
       "      <th>3</th>\n",
       "      <td>Duck!</td>\n",
       "      <td>اخفضي رأسك!</td>\n",
       "      <td>CC-BY 2.0 (France) Attribution: tatoeba.org #2...</td>\n",
       "    </tr>\n",
       "    <tr>\n",
       "      <th>4</th>\n",
       "      <td>Duck!</td>\n",
       "      <td>اخفضوا رؤوسكم!</td>\n",
       "      <td>CC-BY 2.0 (France) Attribution: tatoeba.org #2...</td>\n",
       "    </tr>\n",
       "  </tbody>\n",
       "</table>\n",
       "</div>"
      ],
      "text/plain": [
       "  english          arabic                                            license\n",
       "0     Hi.         مرحبًا.  CC-BY 2.0 (France) Attribution: tatoeba.org #5...\n",
       "1    Run!           اركض!  CC-BY 2.0 (France) Attribution: tatoeba.org #9...\n",
       "2   Duck!      اخفض رأسك!  CC-BY 2.0 (France) Attribution: tatoeba.org #2...\n",
       "3   Duck!     اخفضي رأسك!  CC-BY 2.0 (France) Attribution: tatoeba.org #2...\n",
       "4   Duck!  اخفضوا رؤوسكم!  CC-BY 2.0 (France) Attribution: tatoeba.org #2..."
      ]
     },
     "execution_count": 2,
     "metadata": {},
     "output_type": "execute_result"
    }
   ],
   "source": [
    "df = pd.read_csv(\"../data/ar-en.txt\", sep=\"\\t\", header=None, names=['english', 'arabic', 'license'])\n",
    "\n",
    "df.head()"
   ]
  },
  {
   "cell_type": "code",
   "execution_count": 5,
   "id": "4a3c4dca-19bb-4a5d-b15f-1ea719adfbad",
   "metadata": {},
   "outputs": [],
   "source": [
    "train_df = df.sample(frac=0.8)\n",
    "testval_df = df.drop(train_df.index)"
   ]
  },
  {
   "cell_type": "code",
   "execution_count": 7,
   "id": "df3be9c4-fbef-407a-8d53-2ef7cacabc44",
   "metadata": {},
   "outputs": [],
   "source": [
    "valid_df = testval_df.sample(frac=0.5)\n",
    "test_df = testval_df.drop(valid_df.index)"
   ]
  },
  {
   "cell_type": "code",
   "execution_count": 8,
   "id": "56ad5439-0de6-456e-a2ea-db958eb5df6f",
   "metadata": {},
   "outputs": [
    {
     "data": {
      "text/plain": [
       "((9750, 3), (1218, 3), (1219, 3))"
      ]
     },
     "execution_count": 8,
     "metadata": {},
     "output_type": "execute_result"
    }
   ],
   "source": [
    "train_df.shape, valid_df.shape, test_df.shape"
   ]
  },
  {
   "cell_type": "code",
   "execution_count": 10,
   "id": "b77df9fe-cbdb-4d76-9681-a875b43d0e33",
   "metadata": {},
   "outputs": [],
   "source": [
    "train_df[['english', 'arabic']].to_csv('../data/train.csv', index=False)\n",
    "test_df[['english', 'arabic']].to_csv('../data/test.csv', index=False)\n",
    "valid_df[['english', 'arabic']].to_csv('../data/valid.csv', index=False)"
   ]
  },
  {
   "cell_type": "code",
   "execution_count": null,
   "id": "df2cd657-cd84-4054-8e92-a1c993a8d218",
   "metadata": {},
   "outputs": [],
   "source": []
  }
 ],
 "metadata": {
  "kernelspec": {
   "display_name": "Python 3 (ipykernel)",
   "language": "python",
   "name": "python3"
  },
  "language_info": {
   "codemirror_mode": {
    "name": "ipython",
    "version": 3
   },
   "file_extension": ".py",
   "mimetype": "text/x-python",
   "name": "python",
   "nbconvert_exporter": "python",
   "pygments_lexer": "ipython3",
   "version": "3.8.13"
  }
 },
 "nbformat": 4,
 "nbformat_minor": 5
}
